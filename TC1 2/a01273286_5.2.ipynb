{
 "cells": [
  {
   "cell_type": "code",
   "execution_count": 104,
   "metadata": {},
   "outputs": [
    {
     "name": "stdout",
     "output_type": "stream",
     "text": [
      "Producto                          Cantidad    Valor Unitario    Subtotal\n",
      "------------------------------  ----------  ----------------  ----------\n",
      "Green smoothie                          22             17.68      388.96\n",
      "Raw legums                              21             17.11      359.31\n",
      "Pesto with basil                         2             18.19       36.38\n",
      "Hazelnut in black ceramic bowl           7             27.35      191.45\n",
      "Fresh stawberry                          5             28.59      142.95\n",
      "Homemade bread                           6             17.48      104.88\n",
      "Pears juice                              3             19.49       58.47\n",
      "Cuban sandwiche                         11             18.5       203.5\n",
      "Smoothie with chia seeds                 3             25.26       75.78\n",
      "Sandwich with salad                      5             22.48      112.4\n",
      "Cherry                                   4             14.35       57.4\n",
      "Corn                                    19             13.55      257.45\n",
      "Fresh blueberries                        7             21.01      147.07\n",
      "Rustic breakfast                         3             21.32       63.96\n",
      "Plums                                    4             19.18       76.72\n",
      "French fries                             3             18.32       54.96\n",
      "Ground beef meat burger                  4             11.73       46.92\n",
      "Tomatoes                                 2             26.03       52.06\n",
      "Peaches on branch                        2             25.62       51.24\n",
      "\n",
      "Total Ventas: 2481.86\n"
     ]
    }
   ],
   "source": [
    "import json\n",
    "from tabulate import tabulate\n",
    "precio_producto = {}\n",
    "subtotal_ventas = {}\n",
    "cantidad_total = {}\n",
    "VENTAS_TOTALES = 0\n",
    "RESULTADO_ARCHIVO = \"SalesResults.txt\"\n",
    "# Procesar compras\n",
    "detalles_ventas = []\n",
    "with open('TC1.ProductList.json', 'r', encoding='UTF-8') as archivo:\n",
    "    productos = json.load(archivo)\n",
    "\n",
    "\n",
    "for producto in productos:\n",
    "    title = producto['title']\n",
    "    description = producto['description']\n",
    "    price = producto['price']\n",
    "    subtotal_ventas[title] = 0\n",
    "    cantidad_total[title] = 0\n",
    "    precio_producto[title] = abs(float(price))\n",
    "\n",
    "with open('TC3.Sales.json', 'r', encoding='UTF-8') as archivo:\n",
    "    compras = json.load(archivo)\n",
    "\n",
    "for compra in compras:\n",
    "    SALE_ID = compra['SALE_ID']\n",
    "    SALE_Date = compra['SALE_Date']\n",
    "    Product = compra['Product']\n",
    "    Quantity = compra['Quantity']\n",
    "    if Product in precio_producto:\n",
    "        cantidad_total[Product] += Quantity\n",
    "        subtotal_ventas[Product] += precio_producto[Product]*Quantity\n",
    "        VENTAS_TOTALES += precio_producto[Product]*Quantity\n",
    "    else:\n",
    "        print(f\"Producto {Product} no existe en la lista de productos\")\n",
    "\n",
    "for producto, compra in subtotal_ventas.items():\n",
    "    Product = producto\n",
    "    Quantity = 0\n",
    "    if compra > 0:\n",
    "        detalles_ventas.append([producto, cantidad_total[Product],\n",
    "                                precio_producto[Product], compra])\n",
    "\n",
    "with open(RESULTADO_ARCHIVO, 'w', encoding='UTF-8') as ARCHIVO:\n",
    "    ARCHIVO.write(tabulate(detalles_ventas,\n",
    "                           headers=['Producto', 'Cantidad',\n",
    "                                    'Valor Unitario', 'Subtotal']))\n",
    "    ARCHIVO.write(f\"\\nTotal Ventas: {VENTAS_TOTALES:.2f}\")\n",
    "    print(tabulate(detalles_ventas,\n",
    "                   headers=['Producto', 'Cantidad',\n",
    "                            'Valor Unitario', 'Subtotal']))\n",
    "    print(f\"\\nTotal Ventas: {VENTAS_TOTALES:.2f}\")\n"
   ]
  }
 ],
 "metadata": {
  "kernelspec": {
   "display_name": "base",
   "language": "python",
   "name": "python3"
  },
  "language_info": {
   "codemirror_mode": {
    "name": "ipython",
    "version": 3
   },
   "file_extension": ".py",
   "mimetype": "text/x-python",
   "name": "python",
   "nbconvert_exporter": "python",
   "pygments_lexer": "ipython3",
   "version": "3.11.5"
  }
 },
 "nbformat": 4,
 "nbformat_minor": 2
}
